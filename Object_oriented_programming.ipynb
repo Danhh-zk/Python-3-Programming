{
  "nbformat": 4,
  "nbformat_minor": 0,
  "metadata": {
    "colab": {
      "provenance": [],
      "authorship_tag": "ABX9TyM3IoV5IXgCtWzldm6xjKbE",
      "include_colab_link": true
    },
    "kernelspec": {
      "name": "python3",
      "display_name": "Python 3"
    },
    "language_info": {
      "name": "python"
    }
  },
  "cells": [
    {
      "cell_type": "markdown",
      "metadata": {
        "id": "view-in-github",
        "colab_type": "text"
      },
      "source": [
        "<a href=\"https://colab.research.google.com/github/Danhh-zk/Python-3-Programming/blob/main/Object_oriented_programming.ipynb\" target=\"_parent\"><img src=\"https://colab.research.google.com/assets/colab-badge.svg\" alt=\"Open In Colab\"/></a>"
      ]
    },
    {
      "cell_type": "code",
      "execution_count": null,
      "metadata": {
        "id": "99ELLKUYSz2P"
      },
      "outputs": [],
      "source": []
    },
    {
      "cell_type": "markdown",
      "source": [
        "1-Create a class called Animal that accepts two numbers as inputs and assigns them respectively to two instance variables: arms and legs. Create an instance method called limbs that, when called, returns the total number of limbs the animal has. To the variable name spider, assign an instance of Animal that has 4 arms and 4 legs. Call the limbs method on the spider instance and save the result to the variable name spidlimbs."
      ],
      "metadata": {
        "id": "kelaFCplTPql"
      }
    },
    {
      "cell_type": "code",
      "source": [
        "class Animal:\n",
        "    def __init__(self, arms, legs):\n",
        "        self.arms = arms\n",
        "        self.legs = legs\n",
        "\n",
        "    def limbs(self):\n",
        "        return self.arms + self.legs"
      ],
      "metadata": {
        "id": "Ji3A2HjFTQt7"
      },
      "execution_count": 1,
      "outputs": []
    },
    {
      "cell_type": "code",
      "source": [
        "spider = Animal(4, 4)\n",
        "spidlimbs = spider.limbs()\n",
        "print(spidlimbs)  # Output: 8"
      ],
      "metadata": {
        "colab": {
          "base_uri": "https://localhost:8080/"
        },
        "id": "7fAhZIt3TUPK",
        "outputId": "7c57afca-3ca7-49f1-faf7-01324ec7314e"
      },
      "execution_count": 2,
      "outputs": [
        {
          "output_type": "stream",
          "name": "stdout",
          "text": [
            "8\n"
          ]
        }
      ]
    },
    {
      "cell_type": "markdown",
      "source": [
        "2-Define a class called Bike that accepts a string and a float as input, and assigns those inputs respectively to two instance variables, color and price. Assign to the variable testOne an instance of Bike whose color is blue and whose price is 89.99. Assign to the variable testTwo an instance of Bike whose color is purple and whose price is 25.0."
      ],
      "metadata": {
        "id": "-iEyMRISTcwv"
      }
    },
    {
      "cell_type": "code",
      "source": [
        "class Bike:\n",
        "    def __init__(self, color, price):\n",
        "        self.color = color\n",
        "        self.price = price"
      ],
      "metadata": {
        "id": "kwg94vb_Tzbg"
      },
      "execution_count": 3,
      "outputs": []
    },
    {
      "cell_type": "code",
      "source": [
        "testOne = Bike(\"blue\", 89.99)\n",
        "testTwo = Bike(\"purple\", 25.0)"
      ],
      "metadata": {
        "id": "wBlIY_3xT2RS"
      },
      "execution_count": 4,
      "outputs": []
    },
    {
      "cell_type": "markdown",
      "source": [
        "3-The class, Pokemon, is provided below and describes a Pokemon and its leveling and evolving characteristics. An instance of the class is one pokemon that you create.\n",
        "\n",
        "Grass_Pokemon is a subclass that inherits from Pokemon but changes some aspects, for instance, the boost values are different.\n",
        "\n",
        "For the subclass Grass_Pokemon, add another method called action that returns the string \"[name of pokemon] knows a lot of different moves!\". Create an instance of this class with the name as \"Belle\". Assign this instance to the variable p1."
      ],
      "metadata": {
        "id": "T-7Qb3-hUxZg"
      }
    },
    {
      "cell_type": "code",
      "source": [
        "class Pokemon:\n",
        "    def __init__(self, name, level):\n",
        "        self.name = name\n",
        "        self.level = level\n",
        "\n",
        "    def attack(self):\n",
        "        return f\"{self.name} is attacking!\"\n",
        "\n",
        "    def level_up(self):\n",
        "        self.level += 1\n",
        "        if self.level >= 36:\n",
        "            self.evolve()\n",
        "\n",
        "    def evolve(self):\n",
        "        pass\n",
        "\n",
        "\n",
        "class Grass_Pokemon(Pokemon):\n",
        "    def __init__(self, name, level):\n",
        "        super().__init__(name, level)\n",
        "        self.boost = 2\n",
        "\n",
        "    def evolve(self):\n",
        "        if self.level >= 16:\n",
        "            self.name = \"Venusaur\"\n",
        "\n",
        "    def action(self):\n",
        "        return f\"{self.name} knows a lot of different moves!\"\n",
        "\n",
        "\n",
        "p1 = Grass_Pokemon(\"Belle\", 1)"
      ],
      "metadata": {
        "id": "JlJc12MxUywR"
      },
      "execution_count": 5,
      "outputs": []
    }
  ]
}