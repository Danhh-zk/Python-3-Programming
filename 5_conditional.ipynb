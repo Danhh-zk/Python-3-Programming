{
  "nbformat": 4,
  "nbformat_minor": 0,
  "metadata": {
    "colab": {
      "provenance": [],
      "authorship_tag": "ABX9TyN/9tEEhhUUAKY4gRkzp8tX",
      "include_colab_link": true
    },
    "kernelspec": {
      "name": "python3",
      "display_name": "Python 3"
    },
    "language_info": {
      "name": "python"
    }
  },
  "cells": [
    {
      "cell_type": "markdown",
      "metadata": {
        "id": "view-in-github",
        "colab_type": "text"
      },
      "source": [
        "<a href=\"https://colab.research.google.com/github/Danhh-zk/Python-3-Programming/blob/main/5_conditional.ipynb\" target=\"_parent\"><img src=\"https://colab.research.google.com/assets/colab-badge.svg\" alt=\"Open In Colab\"/></a>"
      ]
    },
    {
      "cell_type": "markdown",
      "source": [
        "1-\n",
        "Write code to assign the string \"You can apply to SI!\" to output if the string \"SI 106\" is in the list courses. If it is not in courses, assign the value \"Take SI 106!\" to the variable output."
      ],
      "metadata": {
        "id": "xP9h3NM4R0Ng"
      }
    },
    {
      "cell_type": "code",
      "source": [
        "courses = [\"SI 101\", \"SI 110\", \"SI 106\", \"SI 205\"]\n",
        "\n",
        "if \"SI 106\" in courses:\n",
        "    output = \"You can apply to SI!\"\n",
        "else:\n",
        "    output = \"Take SI 106!\"\n",
        "\n",
        "print(output)"
      ],
      "metadata": {
        "colab": {
          "base_uri": "https://localhost:8080/"
        },
        "id": "ftt7F7uhR1VE",
        "outputId": "6d56a1cb-d6e6-45ee-87ed-dec0ff8282ee"
      },
      "execution_count": null,
      "outputs": [
        {
          "output_type": "stream",
          "name": "stdout",
          "text": [
            "You can apply to SI!\n"
          ]
        }
      ]
    },
    {
      "cell_type": "markdown",
      "source": [
        "2- Create a variable, b, and assign it the value of 15. Then, write code to see if the value b is greater than that of a. If it is, a’s value should be multiplied by 2. If the value of b is less than or equal to a, nothing should happen. Finally, create variable c and assign it the value of the sum of a and b."
      ],
      "metadata": {
        "id": "6jwn2RXmTtH2"
      }
    },
    {
      "cell_type": "code",
      "source": [
        "a = 20\n",
        "b = 15\n",
        "\n",
        "if b >= a :\n",
        "    print(a*2)\n",
        "\n",
        "c=a+b"
      ],
      "metadata": {
        "id": "r7EzpBoATvJT"
      },
      "execution_count": null,
      "outputs": []
    },
    {
      "cell_type": "markdown",
      "source": [
        "3- Create one conditional to find whether “false” is in string str1. If so, assign variable output the string “False. You aren’t you?”. Check to see if “true” is in string str1 and if it is then assign “True! You are you!” to the variable output. If neither are in str1, assign “Neither true nor false!” to output."
      ],
      "metadata": {
        "id": "WRbVZUpFUrhs"
      }
    },
    {
      "cell_type": "code",
      "source": [
        "# Assume str1 is the input string\n",
        "str1 = \"This is a sample string containing true and false.\"\n",
        "\n",
        "# Check if \"false\" is in string str1\n",
        "if \"false\" in str1.lower():\n",
        "    output = \"False. You aren't you?\"\n",
        "# Check if \"true\" is in string str1\n",
        "elif \"true\" in str1.lower():\n",
        "    output = \"True! You are you!\"\n",
        "# If neither \"false\" nor \"true\" is in str1\n",
        "else:\n",
        "    output = \"Neither true nor false!\"\n",
        "\n",
        "# Print the value of output for verification\n",
        "print(output)"
      ],
      "metadata": {
        "colab": {
          "base_uri": "https://localhost:8080/"
        },
        "id": "HZltNC3tUtd2",
        "outputId": "efa68ac5-d156-4fc6-f4ea-a31e87e7cc30"
      },
      "execution_count": null,
      "outputs": [
        {
          "output_type": "stream",
          "name": "stdout",
          "text": [
            "False. You aren't you?\n"
          ]
        }
      ]
    },
    {
      "cell_type": "markdown",
      "source": [
        "4- Create an empty list called resps. Using the list percent_rain, for each percent, if it is above 90, add the string ‘Bring an umbrella.’ to resps, otherwise if it is above 80, add the string ‘Good for the flowers?’ to resps, otherwise if it is above 50, add the string ‘Watch out for clouds!’ to resps, otherwise, add the string ‘Nice day!’ to resps. Note: if you’re sure you’ve got the problem right but it doesn’t pass, then check that you’ve matched up the strings exactly."
      ],
      "metadata": {
        "id": "v46JQsxCWOkH"
      }
    },
    {
      "cell_type": "code",
      "source": [
        "# Assuming percent_rain is the list of percentages (replace it with your actual list)\n",
        "percent_rain = [95, 75, 40, 60, 85]\n",
        "\n",
        "# Create an empty list called resps\n",
        "resps = []\n",
        "\n",
        "# Iterate through each percentage in percent_rain\n",
        "for percent in percent_rain:\n",
        "    # Check conditions and add the corresponding string to resps\n",
        "    if percent > 90:\n",
        "        resps.append('Bring an umbrella.')\n",
        "    elif percent > 80:\n",
        "        resps.append('Good for the flowers?')\n",
        "    elif percent > 50:\n",
        "        resps.append('Watch out for clouds!')\n",
        "    else:\n",
        "        resps.append('Nice day!')\n",
        "\n",
        "# Print the resulting list resps\n",
        "print(resps)"
      ],
      "metadata": {
        "colab": {
          "base_uri": "https://localhost:8080/"
        },
        "id": "4jMjNWOoWSy_",
        "outputId": "a6396f15-cbda-4053-be74-0606c95acb51"
      },
      "execution_count": null,
      "outputs": [
        {
          "output_type": "stream",
          "name": "stdout",
          "text": [
            "['Bring an umbrella.', 'Watch out for clouds!', 'Nice day!', 'Watch out for clouds!', 'Good for the flowers?']\n"
          ]
        }
      ]
    },
    {
      "cell_type": "markdown",
      "source": [
        "5- For each string in the list words, find the number of characters in the string. If the number of characters in the string is greater than 3, add 1 to the variable num_words so that num_words should end up with the total number of words with more than 3 characters."
      ],
      "metadata": {
        "id": "nIUrY7CnWuTu"
      }
    },
    {
      "cell_type": "code",
      "source": [
        "words = [\"water\", \"chair\", \"pen\", \"basket\", \"hi\", \"car\"]\n",
        "\n",
        "# Initialize the variable num_words to 0\n",
        "num_words = 0\n",
        "for word in words:\n",
        "    if len(word) > 3:\n",
        "        num_words += 1\n",
        "\n",
        "print(\"Number of words with more than 3 characters:\", num_words)"
      ],
      "metadata": {
        "colab": {
          "base_uri": "https://localhost:8080/"
        },
        "id": "DCggJpEMWxbF",
        "outputId": "83092ae1-20c3-4261-c4ad-6605390254eb"
      },
      "execution_count": null,
      "outputs": [
        {
          "output_type": "stream",
          "name": "stdout",
          "text": [
            "Number of words with more than 3 characters: 3\n"
          ]
        }
      ]
    },
    {
      "cell_type": "markdown",
      "source": [
        "6-Challenge For each word in words, add ‘d’ to the end of the word if the word ends in “e” to make it past tense. Otherwise, add ‘ed’ to make it past tense. Save these past tense words to a list called past_tense."
      ],
      "metadata": {
        "id": "hRdum6ZYX35o"
      }
    },
    {
      "cell_type": "code",
      "source": [
        "words = [\"adopt\", \"bake\", \"beam\", \"confide\", \"grill\", \"plant\", \"time\", \"wave\", \"wish\"]\n",
        "\n",
        "# Initialize an empty list called past_tense\n",
        "past_tense = []\n",
        "for word in words:\n",
        "    # Check if the word ends with \"e\"\n",
        "    if word.endswith(\"e\"):\n",
        "        # If true, add 'd' to the end of the word\n",
        "        past_tense.append(word + 'd')\n",
        "    else:\n",
        "        # If false, add 'ed' to the end of the word\n",
        "        past_tense.append(word + 'ed')\n",
        "\n",
        "# Print the list of past tense words\n",
        "print(\"Past tense words:\", past_tense)"
      ],
      "metadata": {
        "colab": {
          "base_uri": "https://localhost:8080/"
        },
        "id": "SBXw5feDYIa_",
        "outputId": "68bc22dc-2c3d-41e0-c240-9286a51990ef"
      },
      "execution_count": null,
      "outputs": [
        {
          "output_type": "stream",
          "name": "stdout",
          "text": [
            "Past tense words: ['adopted', 'baked', 'beamed', 'confided', 'grilled', 'planted', 'timed', 'waved', 'wished']\n"
          ]
        }
      ]
    },
    {
      "cell_type": "markdown",
      "source": [
        "7-Write code that asks the user to enter a numeric score (0-100). In response, it should print out the score and corresponding letter grade, according to the table below."
      ],
      "metadata": {
        "id": "QNulLmrkYiLO"
      }
    },
    {
      "cell_type": "code",
      "source": [
        "sc = input(\"Enter a score from 0 to 100 (decimal points are allowed)\")\n",
        "fl_sc = float(sc)\n",
        "if fl_sc < 60:\n",
        "    gr = \"F\"\n",
        "elif fl_sc < 70:\n",
        "    gr = \"D\"\n",
        "elif fl_sc < 80:\n",
        "    gr = \"C\"\n",
        "elif fl_sc < 90:\n",
        "    gr = \"B\"\n",
        "else:\n",
        "    gr = \"A\"\n",
        "\n",
        "print(\"Score\", fl_sc, \"gets a grade of\", gr)"
      ],
      "metadata": {
        "colab": {
          "base_uri": "https://localhost:8080/"
        },
        "id": "IT0w2bm2Yj0P",
        "outputId": "f234f0c3-3ae0-47ed-b7e3-f7f45e4f1058"
      },
      "execution_count": null,
      "outputs": [
        {
          "output_type": "stream",
          "name": "stdout",
          "text": [
            "Enter a score from 0 to 100 (decimal points are allowed)70\n",
            "Score 70.0 gets a grade of C\n"
          ]
        }
      ]
    },
    {
      "cell_type": "markdown",
      "source": [],
      "metadata": {
        "id": "tfAkeCn2YssX"
      }
    }
  ]
}