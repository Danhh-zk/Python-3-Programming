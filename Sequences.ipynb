{
  "nbformat": 4,
  "nbformat_minor": 0,
  "metadata": {
    "colab": {
      "provenance": [],
      "authorship_tag": "ABX9TyOkPV3aBPdTLnYzoMUcv895",
      "include_colab_link": true
    },
    "kernelspec": {
      "name": "python3",
      "display_name": "Python 3"
    },
    "language_info": {
      "name": "python"
    }
  },
  "cells": [
    {
      "cell_type": "markdown",
      "metadata": {
        "id": "view-in-github",
        "colab_type": "text"
      },
      "source": [
        "<a href=\"https://colab.research.google.com/github/Danhh-zk/Python-3-Programming/blob/main/3_Sequences.ipynb\" target=\"_parent\"><img src=\"https://colab.research.google.com/assets/colab-badge.svg\" alt=\"Open In Colab\"/></a>"
      ]
    },
    {
      "cell_type": "markdown",
      "source": [
        "1- Assign the value of the 34th element of lst to the variable output.\n",
        "\n"
      ],
      "metadata": {
        "id": "W6h1PIRfZwBl"
      }
    },
    {
      "cell_type": "code",
      "execution_count": null,
      "metadata": {
        "colab": {
          "base_uri": "https://localhost:8080/"
        },
        "id": "zDuDvYV8ZiDO",
        "outputId": "2014a07c-bcd5-4e94-f8f1-23aab505b272"
      },
      "outputs": [
        {
          "output_type": "stream",
          "name": "stdout",
          "text": [
            "laptop\n"
          ]
        }
      ],
      "source": [
        "lst = [\"hi\", \"morning\", \"dog\", \"506\", \"caterpillar\", \"balloons\", 106, \"yo-yo\", \"python\", \"moon\", \"water\", \"sleepy\", \"daffy\", 45, \"donald\", \"whiteboard\", \"glasses\", \"markers\", \"couches\", \"butterfly\", \"100\", \"magazine\", \"door\", \"picture\", \"window\", [\"Olympics\", \"handle\"], \"chair\", \"pages\", \"readings\", \"burger\", \"juggle\", \"craft\", [\"store\", \"poster\", \"board\"], \"laptop\", \"computer\", \"plates\", \"hotdog\", \"salad\", \"backpack\", \"zipper\", \"ring\", \"watch\", \"finger\", \"bags\", \"boxes\", \"pods\", \"peas\", \"apples\", \"horse\", \"guinea pig\", \"bowl\", \"EECS\"]\n",
        "output=lst[33]\n",
        "print(output)"
      ]
    },
    {
      "cell_type": "markdown",
      "source": [
        "2- Assign the value of the last chacter of lst to the variable output. Do this so that the length of lst doesn’t matter."
      ],
      "metadata": {
        "id": "YFwK1k2haCYF"
      }
    },
    {
      "cell_type": "code",
      "source": [
        "lst = \"Every chess or checkers game begins from the same position and has a finite number of moves that can be played. While the number of possible scenarios and moves is quite large, it is still possible for computers to calculate that number and even be programmed to respond well against a human player...\"\n",
        "output=lst[-1]"
      ],
      "metadata": {
        "id": "EcfykaWkaOlb"
      },
      "execution_count": null,
      "outputs": []
    },
    {
      "cell_type": "markdown",
      "source": [
        "3- Assign the number of elements in lst to the variable output.\n",
        "\n"
      ],
      "metadata": {
        "id": "0yuEyUn-a8zq"
      }
    },
    {
      "cell_type": "code",
      "source": [
        "\n",
        "lst = [\"hi\", \"morning\", \"dog\", \"506\", \"caterpillar\", \"balloons\", 106, \"yo-yo\", \"python\", \"moon\", \"water\", \"sleepy\", \"daffy\", 45, \"donald\", \"whiteboard\", \"glasses\", \"markers\", \"couches\", \"butterfly\", \"100\", \"magazine\", \"door\", \"picture\", \"window\", [\"Olympics\", \"handle\"], \"chair\", \"pages\", \"readings\", \"burger\", \"juggle\", \"craft\", [\"store\", \"poster\", \"board\"], \"laptop\", \"computer\", \"plates\", \"hotdog\", \"salad\", \"backpack\", \"zipper\", \"ring\", \"watch\", \"finger\", \"bags\", \"boxes\", \"pods\", \"peas\", \"apples\", \"horse\", \"guinea pig\", \"bowl\", \"EECS\"]\n",
        "output=len(lst)"
      ],
      "metadata": {
        "id": "Z9qF-wHUa8g0"
      },
      "execution_count": null,
      "outputs": []
    },
    {
      "cell_type": "markdown",
      "source": [
        "4- Create a new list using the 9th through 12th elements (four items in all) of new_lst and assign it to the variable sub_lst."
      ],
      "metadata": {
        "id": "fqhr4vR7cv7E"
      }
    },
    {
      "cell_type": "code",
      "source": [
        "new_lst = [\"computer\", \"luxurious\", \"basket\", \"crime\", 0, 2.49, \"institution\", \"slice\", \"sun\", [\"water\", \"air\", \"fire\", \"earth\"], \"games\", 2.7, \"code\", \"java\", [\"birthday\", \"celebration\", 1817, \"party\", \"cake\", 5], \"rain\", \"thunderstorm\", \"top down\"]\n",
        "sub_lst=new_lst[8:12]\n",
        "print(sub_lst)"
      ],
      "metadata": {
        "colab": {
          "base_uri": "https://localhost:8080/"
        },
        "id": "rr6ErJ8Fcycr",
        "outputId": "dc4e4017-8502-4191-e12b-6f3d4686a48e"
      },
      "execution_count": null,
      "outputs": [
        {
          "output_type": "stream",
          "name": "stdout",
          "text": [
            "['sun', ['water', 'air', 'fire', 'earth'], 'games', 2.7]\n"
          ]
        }
      ]
    },
    {
      "cell_type": "markdown",
      "source": [
        "5- Write a program that extracts the last three items in the list sports and assigns it to the variable last. Make sure to write your code so that it works no matter how many items are in the list."
      ],
      "metadata": {
        "id": "BX6NBak-flyy"
      }
    },
    {
      "cell_type": "code",
      "source": [
        "sports = ['cricket', 'football', 'volleyball', 'baseball', 'softball', 'track and field', 'curling', 'ping pong', 'hockey']\n",
        "if len(sports)>=3:\n",
        " last=sports[-3:]\n"
      ],
      "metadata": {
        "id": "rfxrJWgGfpt9"
      },
      "execution_count": null,
      "outputs": []
    },
    {
      "cell_type": "markdown",
      "source": [
        "6- Write code that combines the following variables so that the sentence “You are doing a great job, keep it up!” is assigned to the variable message. Do not edit the values assigned to by, az, io, or qy."
      ],
      "metadata": {
        "id": "JWgragUIhbJv"
      }
    },
    {
      "cell_type": "code",
      "source": [
        "by = \"You are\"\n",
        "az = \"doing a great \"\n",
        "io = \"job\"\n",
        "qy = \"keep it up!\"\n",
        "message = by + az + io + qy\n",
        "print(message)"
      ],
      "metadata": {
        "colab": {
          "base_uri": "https://localhost:8080/"
        },
        "id": "k8J7K1fGheMC",
        "outputId": "1021c657-c3e2-47ae-bfe7-2a1cefe219b2"
      },
      "execution_count": null,
      "outputs": [
        {
          "output_type": "stream",
          "name": "stdout",
          "text": [
            "You aredoing a great jobkeep it up!\n"
          ]
        }
      ]
    },
    {
      "cell_type": "markdown",
      "source": [
        "10- Write code to determine how many 9’s are in the list nums and assign that value to the variable how_many. Do not use a for loop to do this."
      ],
      "metadata": {
        "id": "GSSmHVyfh2Q4"
      }
    },
    {
      "cell_type": "code",
      "source": [
        "nums = [4, 2, 23.4, 9, 545, 9, 1, 234.001, 5, 49, 8, 9 , 34, 52, 1, -2, 9.1, 4]\n",
        "how_many=nums.count(9)"
      ],
      "metadata": {
        "id": "1Mff1Wdih4mx"
      },
      "execution_count": null,
      "outputs": []
    }
  ]
}
