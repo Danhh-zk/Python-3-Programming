{
  "nbformat": 4,
  "nbformat_minor": 0,
  "metadata": {
    "colab": {
      "provenance": [],
      "authorship_tag": "ABX9TyMYcgBaob83vRJNzOsKtx70",
      "include_colab_link": true
    },
    "kernelspec": {
      "name": "python3",
      "display_name": "Python 3"
    },
    "language_info": {
      "name": "python"
    }
  },
  "cells": [
    {
      "cell_type": "markdown",
      "metadata": {
        "id": "view-in-github",
        "colab_type": "text"
      },
      "source": [
        "<a href=\"https://colab.research.google.com/github/Danhh-zk/Python-3-Programming/blob/main/File.ipynb\" target=\"_parent\"><img src=\"https://colab.research.google.com/assets/colab-badge.svg\" alt=\"Open In Colab\"/></a>"
      ]
    },
    {
      "cell_type": "markdown",
      "source": [
        "1-Using the file school_prompt2.txt, find the number of characters in the file and assign that value to the variable num_char."
      ],
      "metadata": {
        "id": "MDXV9pwU96HT"
      }
    },
    {
      "cell_type": "code",
      "source": [
        "# Open the file in read mode\n",
        "with open(\"school_prompt2.txt\", \"r\") as file:\n",
        "    # Read the entire content of the file\n",
        "    content = file.read()\n",
        "\n",
        "# Find the number of characters in the content\n",
        "num_char = len(content)\n",
        "\n",
        "# Print or use the value as needed\n",
        "print(\"Number of characters in the file:\", num_char)"
      ],
      "metadata": {
        "id": "l1Es5puF-Euw"
      },
      "execution_count": null,
      "outputs": []
    },
    {
      "cell_type": "markdown",
      "source": [
        "2-Find the number of lines in the file, travel_plans2.txt, and assign it to the variable num_lines."
      ],
      "metadata": {
        "id": "bjv7akHU-kC1"
      }
    },
    {
      "cell_type": "code",
      "source": [
        "# Open the file in read mode\n",
        "with open(\"travel_plans2.txt\", \"r\") as file:\n",
        "    # Read the entire content of the file\n",
        "    content = file.readlines()\n",
        "\n",
        "# Find the number of characters in the content\n",
        "num_lines = len(content)\n",
        "\n",
        "# Print or use the value as needed\n",
        "print(\"Number of characters in the file:\", num_lines)"
      ],
      "metadata": {
        "id": "Dz3cYQcP-k_P"
      },
      "execution_count": null,
      "outputs": []
    },
    {
      "cell_type": "markdown",
      "source": [
        "3-Create a string called first_forty that is comprised of the first 40 characters of emotion_words2.txt."
      ],
      "metadata": {
        "id": "e-jVrnVC-nr9"
      }
    },
    {
      "cell_type": "code",
      "source": [
        "# Open the file in read mode\n",
        "with open(\"emotion_words2.txt\", \"r\") as file:\n",
        "    # Read the first 40 characters from the file\n",
        "    first_forty = file.read(40)\n",
        "\n",
        "# Print or use the 'first_forty' string as needed\n",
        "print(\"First 40 characters:\", first_forty)"
      ],
      "metadata": {
        "id": "rT2pJlml-4Yc"
      },
      "execution_count": null,
      "outputs": []
    },
    {
      "cell_type": "markdown",
      "source": [
        "4-Write code to find out how many lines are in the file emotion_words.txt as shown above. Save this value to the variable num_lines. Do not use the len method."
      ],
      "metadata": {
        "id": "AS-QlzXx--JM"
      }
    },
    {
      "cell_type": "code",
      "source": [
        "# Open the file in read mode\n",
        "with open(\"emotion_words.txt\", \"r\") as file:\n",
        "    # Initialize a counter for lines\n",
        "    num_lines = 0\n",
        "\n",
        "    # Iterate through each line in the file\n",
        "    for line in file:\n",
        "        # Increment the line counter for each line\n",
        "        num_lines += 1\n",
        "\n",
        "# Print or use the 'num_lines' variable as needed\n",
        "print(\"Number of lines in the file:\", num_lines)"
      ],
      "metadata": {
        "id": "iDnAk1EC_jBE"
      },
      "execution_count": null,
      "outputs": []
    },
    {
      "cell_type": "markdown",
      "source": [
        "5-Using the file school_prompt.txt, if the character ‘p’ is in a word, then add the word to a list called p_words"
      ],
      "metadata": {
        "id": "CZfdiFQY_ndI"
      }
    },
    {
      "cell_type": "code",
      "source": [
        "# Open the file in read mode\n",
        "with open(\"school_prompt.txt\", \"r\") as file:\n",
        "    # Read the content of the file\n",
        "    content = file.read()\n",
        "\n",
        "# Split the content into words\n",
        "words = content.split()\n",
        "\n",
        "# Create a list to store words containing 'p'\n",
        "p_words = []\n",
        "\n",
        "# Iterate through each word and check for 'p'\n",
        "for word in words:\n",
        "    if 'p' in word:\n",
        "        p_words.append(word)\n",
        "\n",
        "# Print or use the 'p_words' list as needed\n",
        "print(\"Words containing 'p':\", p_words)"
      ],
      "metadata": {
        "id": "h_osNsykAvZw"
      },
      "execution_count": null,
      "outputs": []
    }
  ]
}