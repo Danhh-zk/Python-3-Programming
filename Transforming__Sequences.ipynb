{
  "nbformat": 4,
  "nbformat_minor": 0,
  "metadata": {
    "colab": {
      "provenance": [],
      "authorship_tag": "ABX9TyOxUEe0NZ/2pww1TvjEQ8Rh",
      "include_colab_link": true
    },
    "kernelspec": {
      "name": "python3",
      "display_name": "Python 3"
    },
    "language_info": {
      "name": "python"
    }
  },
  "cells": [
    {
      "cell_type": "markdown",
      "metadata": {
        "id": "view-in-github",
        "colab_type": "text"
      },
      "source": [
        "<a href=\"https://colab.research.google.com/github/Danhh-zk/Python-3-Programming/blob/main/Transforming__Sequences.ipynb\" target=\"_parent\"><img src=\"https://colab.research.google.com/assets/colab-badge.svg\" alt=\"Open In Colab\"/></a>"
      ]
    },
    {
      "cell_type": "markdown",
      "source": [
        "1- For each word in the list verbs, add an -ing ending. Save this new list in a new list, ing"
      ],
      "metadata": {
        "id": "e-1jAkGslfvM"
      }
    },
    {
      "cell_type": "code",
      "source": [
        "verbs = [\"kayak\", \"cry\", \"walk\", \"eat\", \"drink\", \"fly\"]\n",
        "ing=[]\n",
        "for word in verbs:\n",
        "    x=word+\"ing\"\n",
        "    ing.append(x)\n",
        "\n",
        "print(ing)"
      ],
      "metadata": {
        "colab": {
          "base_uri": "https://localhost:8080/"
        },
        "id": "I2Dhz-lWlg9i",
        "outputId": "bb7bf6d1-9f83-4053-ac87-ba21204926db"
      },
      "execution_count": 1,
      "outputs": [
        {
          "output_type": "stream",
          "name": "stdout",
          "text": [
            "['kayaking', 'crying', 'walking', 'eating', 'drinking', 'flying']\n"
          ]
        }
      ]
    },
    {
      "cell_type": "markdown",
      "source": [
        "2-Given the list of numbers, numbs, create a new list of those same numbers increased by 5. Save this new list to the variable newlist."
      ],
      "metadata": {
        "id": "0Ut7G900l5qJ"
      }
    },
    {
      "cell_type": "code",
      "source": [
        "numbs = [5, 10, 15, 20, 25]\n",
        "newlist=[]\n",
        "for numbers in numbs:\n",
        "    x=numbers+5\n",
        "    newlist.append(x)\n",
        "\n",
        "print(newlist)"
      ],
      "metadata": {
        "colab": {
          "base_uri": "https://localhost:8080/"
        },
        "id": "Ra7_yUScl7Id",
        "outputId": "0bac3248-b869-40a1-a41e-2e2126dec4ff"
      },
      "execution_count": 2,
      "outputs": [
        {
          "output_type": "stream",
          "name": "stdout",
          "text": [
            "[10, 15, 20, 25, 30]\n"
          ]
        }
      ]
    },
    {
      "cell_type": "markdown",
      "source": [
        "3-For each number in lst_nums, multiply that number by 2 and append it to a new list called larger_nums."
      ],
      "metadata": {
        "id": "UyOIS7pfmUhZ"
      }
    },
    {
      "cell_type": "code",
      "source": [
        "lst_nums = [4, 29, 5.3, 10, 2, 1817, 1967, 9, 31.32]\n",
        "larger_nums=[]\n",
        "for numbers in lst_nums:\n",
        "    x=numbers*2\n",
        "    larger_nums.append(x)\n",
        "\n",
        "print(larger_nums)"
      ],
      "metadata": {
        "colab": {
          "base_uri": "https://localhost:8080/"
        },
        "id": "PSKu_epSmVns",
        "outputId": "e8e2b0ff-25bf-45c0-cc3b-17b256ce8088"
      },
      "execution_count": 3,
      "outputs": [
        {
          "output_type": "stream",
          "name": "stdout",
          "text": [
            "[8, 58, 10.6, 20, 4, 3634, 3934, 18, 62.64]\n"
          ]
        }
      ]
    },
    {
      "cell_type": "markdown",
      "source": [
        "4-For each character in the string already saved in the variable str1, add each character to a list called chars."
      ],
      "metadata": {
        "id": "bU_I2_W1m6FC"
      }
    },
    {
      "cell_type": "code",
      "source": [
        "str1 = \"I love python\"\n",
        "# HINT: what's the accumulator? That should go here.\n",
        "chars=[]\n",
        "for char in str1:\n",
        "    x=char\n",
        "    chars.append(x)\n",
        "\n",
        "print(chars)"
      ],
      "metadata": {
        "colab": {
          "base_uri": "https://localhost:8080/"
        },
        "id": "5LPaEpj1m7Iu",
        "outputId": "8f4a8de4-1ed1-4512-850b-058e5774ac5c"
      },
      "execution_count": 4,
      "outputs": [
        {
          "output_type": "stream",
          "name": "stdout",
          "text": [
            "['I', ' ', 'l', 'o', 'v', 'e', ' ', 'p', 'y', 't', 'h', 'o', 'n']\n"
          ]
        }
      ]
    },
    {
      "cell_type": "markdown",
      "source": [
        "5-Write code to take ‘London’ out of the list trav_dest."
      ],
      "metadata": {
        "id": "kfTjyAv2npIa"
      }
    },
    {
      "cell_type": "code",
      "source": [
        "trav_dest = [\"Paris\", \"New York\", \"London\", \"Tokyo\", \"Sydney\"]\n",
        "trav_dest.remove(\"London\")\n",
        "\n",
        "print(trav_dest)"
      ],
      "metadata": {
        "colab": {
          "base_uri": "https://localhost:8080/"
        },
        "id": "geCY9BbCnqT9",
        "outputId": "22d29a0a-b814-435d-df0c-0929db37f88e"
      },
      "execution_count": 5,
      "outputs": [
        {
          "output_type": "stream",
          "name": "stdout",
          "text": [
            "['Paris', 'New York', 'Tokyo', 'Sydney']\n"
          ]
        }
      ]
    },
    {
      "cell_type": "markdown",
      "source": [
        "6-Write code to add ‘Guadalajara’ to the end of the list trav_dest using a list method."
      ],
      "metadata": {
        "id": "Q6xMYio7n06x"
      }
    },
    {
      "cell_type": "code",
      "source": [
        "trav_dest = [\"Paris\", \"New York\", \"London\", \"Tokyo\", \"Sydney\"]\n",
        "trav_dest.append(\"Guadalajara\")\n",
        "\n",
        "print(trav_dest)"
      ],
      "metadata": {
        "colab": {
          "base_uri": "https://localhost:8080/"
        },
        "id": "Wd8abScwn14Q",
        "outputId": "529e04b3-fee0-4e1a-eee0-dc0877dceab2"
      },
      "execution_count": 6,
      "outputs": [
        {
          "output_type": "stream",
          "name": "stdout",
          "text": [
            "['Paris', 'New York', 'London', 'Tokyo', 'Sydney', 'Guadalajara']\n"
          ]
        }
      ]
    }
  ]
}