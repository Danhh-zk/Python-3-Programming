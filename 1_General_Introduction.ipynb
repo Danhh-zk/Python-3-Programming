{
  "nbformat": 4,
  "nbformat_minor": 0,
  "metadata": {
    "colab": {
      "provenance": []
    },
    "kernelspec": {
      "name": "python3",
      "display_name": "Python 3"
    },
    "language_info": {
      "name": "python"
    }
  },
  "cells": [
    {
      "cell_type": "markdown",
      "source": [
        "#Algorithm"
      ],
      "metadata": {
        "id": "roYJV6dpQJAT"
      }
    },
    {
      "cell_type": "markdown",
      "source": [
        "Algorithm Example 2 (Pseudocode) :\n",
        "Ask for radius\n",
        "let area = (radius2) × π\n",
        "Display area"
      ],
      "metadata": {
        "id": "KLjRK7WCQVE0"
      }
    },
    {
      "cell_type": "code",
      "execution_count": null,
      "metadata": {
        "colab": {
          "base_uri": "https://localhost:8080/"
        },
        "id": "dm1uCPrWP6TW",
        "outputId": "63a47c6d-00af-4138-f7a9-feb30e9c83c0"
      },
      "outputs": [
        {
          "output_type": "stream",
          "name": "stdout",
          "text": [
            "pleas enter the number !2\n",
            "12.56\n"
          ]
        }
      ],
      "source": [
        "radius = int(input(\"pleas enter the number !\"))\n",
        "erea = (radius*radius) * 3.14\n",
        "print(erea)"
      ]
    },
    {
      "cell_type": "markdown",
      "source": [
        "Write code to print out the phrase “Hello World”."
      ],
      "metadata": {
        "id": "fgKV00lhT5Yk"
      }
    },
    {
      "cell_type": "code",
      "source": [
        "print(\"hello world\")"
      ],
      "metadata": {
        "colab": {
          "base_uri": "https://localhost:8080/"
        },
        "id": "FWOKJmo5T33_",
        "outputId": "ba5d4466-0504-44bf-cfb4-e5f23a3cba0c"
      },
      "execution_count": null,
      "outputs": [
        {
          "output_type": "stream",
          "name": "stdout",
          "text": [
            "hello world\n"
          ]
        }
      ]
    }
  ]
}