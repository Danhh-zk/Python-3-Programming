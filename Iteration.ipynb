{
  "nbformat": 4,
  "nbformat_minor": 0,
  "metadata": {
    "colab": {
      "provenance": [],
      "authorship_tag": "ABX9TyNrgih1Vzonp9U7rs2bnhJR",
      "include_colab_link": true
    },
    "kernelspec": {
      "name": "python3",
      "display_name": "Python 3"
    },
    "language_info": {
      "name": "python"
    }
  },
  "cells": [
    {
      "cell_type": "markdown",
      "metadata": {
        "id": "view-in-github",
        "colab_type": "text"
      },
      "source": [
        "<a href=\"https://colab.research.google.com/github/Danhh-zk/Python-3-Programming/blob/main/Iteration.ipynb\" target=\"_parent\"><img src=\"https://colab.research.google.com/assets/colab-badge.svg\" alt=\"Open In Colab\"/></a>"
      ]
    },
    {
      "cell_type": "markdown",
      "source": [
        "1- Write code to create a list of integers from 0 through 52 and assign that list to the variable numbers. You should use the Python range function and don’t forget to covert the result to a list – do not type out the whole list yourself."
      ],
      "metadata": {
        "id": "740_hT2eSnnA"
      }
    },
    {
      "cell_type": "code",
      "execution_count": null,
      "metadata": {
        "id": "zr2ioa7PON2g"
      },
      "outputs": [],
      "source": [
        "numbers = list(range(53))"
      ]
    },
    {
      "cell_type": "markdown",
      "source": [
        "2- Count the number of characters in string str1. Do not use len(). Save the number in variable numbs."
      ],
      "metadata": {
        "id": "2dYPnD3LZj5m"
      }
    },
    {
      "cell_type": "code",
      "source": [
        "str1 = \"I like nonsense, it wakes up the brain cells. Fantasy is a necessary ingredient in living.\"\n",
        "numbs = 0\n",
        "\n",
        "for char in str1:\n",
        "    numbs += 1\n",
        "\n",
        "print(\"Number of characters in str1:\", numbs)"
      ],
      "metadata": {
        "colab": {
          "base_uri": "https://localhost:8080/"
        },
        "id": "Kxuq_lN2ZpxO",
        "outputId": "016a9f0d-2643-442e-d92a-bcccd394b3da"
      },
      "execution_count": null,
      "outputs": [
        {
          "output_type": "stream",
          "name": "stdout",
          "text": [
            "Number of characters in str1: 90\n"
          ]
        }
      ]
    },
    {
      "cell_type": "markdown",
      "source": [
        "3-Create a list of numbers 0 through 40 and assign this list to the variable numbers. Then, accumulate the total of the list’s values and assign that sum to the variable sum1."
      ],
      "metadata": {
        "id": "THgkaDmvao7V"
      }
    },
    {
      "cell_type": "code",
      "source": [
        "numbers = list(range(41))\n",
        "sum1=sum(numbers)"
      ],
      "metadata": {
        "id": "_cjwswcJaqpb"
      },
      "execution_count": null,
      "outputs": []
    },
    {
      "cell_type": "markdown",
      "source": [
        "4-\n",
        "In Robert McCloskey’s book Make Way for Ducklings, the names of the ducklings are Jack, Kack, Lack, Mack, Nack, Ouack, Pack, and Quack. This loop tries to output these names in order.\n",
        "\n",
        "Of course, that’s not quite right because Ouack and Quack are misspelled. Can you fix it?"
      ],
      "metadata": {
        "id": "-SsGPWA-fL8b"
      }
    },
    {
      "cell_type": "code",
      "source": [
        "duckling_names = [\"Jack\", \"Kack\", \"Lack\", \"Mack\", \"Nack\", \"Ouack\", \"Pack\", \"Quack\"]\n",
        "\n",
        "for suffix in duckling_names:\n",
        "    print(suffix)\n"
      ],
      "metadata": {
        "colab": {
          "base_uri": "https://localhost:8080/"
        },
        "id": "u6fl-L84fPFy",
        "outputId": "3f33942f-5411-46ef-8efd-1287ad23a056"
      },
      "execution_count": null,
      "outputs": [
        {
          "output_type": "stream",
          "name": "stdout",
          "text": [
            "Jack\n",
            "Kack\n",
            "Lack\n",
            "Mack\n",
            "Nack\n",
            "Ouack\n",
            "Pack\n",
            "Quack\n"
          ]
        }
      ]
    },
    {
      "cell_type": "markdown",
      "source": [
        "5-Get the user to enter some text and print it out in reverse order."
      ],
      "metadata": {
        "id": "XhrqNmgGfdbw"
      }
    },
    {
      "cell_type": "code",
      "source": [
        "user_input = input(\"Enter some text: \")\n",
        "reversed_text = user_input[::-1]\n",
        "print(\"Reversed text:\", reversed_text)"
      ],
      "metadata": {
        "colab": {
          "base_uri": "https://localhost:8080/"
        },
        "id": "LhwVrAL4ffdR",
        "outputId": "64ee40a3-49f2-4f10-ac09-2446ebdbbb44"
      },
      "execution_count": null,
      "outputs": [
        {
          "output_type": "stream",
          "name": "stdout",
          "text": [
            "Enter some text: danah\n",
            "Reversed text: hanad\n"
          ]
        }
      ]
    },
    {
      "cell_type": "markdown",
      "source": [
        "6- Write a program that uses a for loop to print\n",
        "One of the months of the year is January\n",
        "One of the months of the year is February\n",
        "One of the months of the year is March\n",
        "etc …"
      ],
      "metadata": {
        "id": "ugUXx7fbf5V1"
      }
    },
    {
      "cell_type": "code",
      "source": [
        "for amonth in ['January', 'February', 'March', 'April', 'May', 'June', 'July', 'August', 'September', 'November', 'December']:\n",
        "    print(\"One of the months of the year is\", amonth)"
      ],
      "metadata": {
        "colab": {
          "base_uri": "https://localhost:8080/"
        },
        "id": "GBH-BocIf3ec",
        "outputId": "77aeee95-0796-4d4b-b20f-644380e605c3"
      },
      "execution_count": null,
      "outputs": [
        {
          "output_type": "stream",
          "name": "stdout",
          "text": [
            "One of the months of the year is January\n",
            "One of the months of the year is February\n",
            "One of the months of the year is March\n",
            "One of the months of the year is April\n",
            "One of the months of the year is May\n",
            "One of the months of the year is June\n",
            "One of the months of the year is July\n",
            "One of the months of the year is August\n",
            "One of the months of the year is September\n",
            "One of the months of the year is November\n",
            "One of the months of the year is December\n"
          ]
        }
      ]
    },
    {
      "cell_type": "markdown",
      "source": [
        "7- Assume you have a list of numbers 12, 10, 32, 3, 66, 17, 42, 99, 20\n",
        "\n",
        "Write a loop that prints each of the numbers on a new line.\n",
        "\n",
        "Write a loop that prints each number and its square on a new line."
      ],
      "metadata": {
        "id": "mCR-KzVUf-ni"
      }
    },
    {
      "cell_type": "code",
      "source": [
        "numbers = [12, 10, 32, 3, 66, 17, 42, 99, 20]\n",
        "\n",
        "print(\"Each number on a new line:\")\n",
        "for number in numbers:\n",
        "    print(number)"
      ],
      "metadata": {
        "colab": {
          "base_uri": "https://localhost:8080/"
        },
        "id": "xd2QmHJihNC3",
        "outputId": "20d7d62a-ff11-4678-d32a-96dd2fec8be4"
      },
      "execution_count": null,
      "outputs": [
        {
          "output_type": "stream",
          "name": "stdout",
          "text": [
            "Each number on a new line:\n",
            "12\n",
            "10\n",
            "32\n",
            "3\n",
            "66\n",
            "17\n",
            "42\n",
            "99\n",
            "20\n"
          ]
        }
      ]
    },
    {
      "cell_type": "code",
      "source": [
        "numbers = [12, 10, 32, 3, 66, 17, 42, 99, 20]\n",
        "\n",
        "print(\"Each number and its square on a new line:\")\n",
        "for number in numbers:\n",
        "    square = number ** 2\n",
        "    print(f\"{number} squared is {square}\")"
      ],
      "metadata": {
        "colab": {
          "base_uri": "https://localhost:8080/"
        },
        "id": "vkBElogphOFj",
        "outputId": "333a0951-8f6d-48ef-8ca4-9930b782bae4"
      },
      "execution_count": null,
      "outputs": [
        {
          "output_type": "stream",
          "name": "stdout",
          "text": [
            "Each number and its square on a new line:\n",
            "12 squared is 144\n",
            "10 squared is 100\n",
            "32 squared is 1024\n",
            "3 squared is 9\n",
            "66 squared is 4356\n",
            "17 squared is 289\n",
            "42 squared is 1764\n",
            "99 squared is 9801\n",
            "20 squared is 400\n"
          ]
        }
      ]
    },
    {
      "cell_type": "markdown",
      "source": [
        "8- Write one for loop to print out each character of the string my_str on a separate line."
      ],
      "metadata": {
        "id": "_LNVWiimhY7w"
      }
    },
    {
      "cell_type": "code",
      "source": [
        "my_str = \"MICHIGAN\"\n",
        "for n in my_str:\n",
        "    print(n)"
      ],
      "metadata": {
        "colab": {
          "base_uri": "https://localhost:8080/"
        },
        "id": "ohFb3PxNhdjW",
        "outputId": "3831244a-8e90-4893-85de-25b8ba20733e"
      },
      "execution_count": null,
      "outputs": [
        {
          "output_type": "stream",
          "name": "stdout",
          "text": [
            "M\n",
            "I\n",
            "C\n",
            "H\n",
            "I\n",
            "G\n",
            "A\n",
            "N\n"
          ]
        }
      ]
    },
    {
      "cell_type": "markdown",
      "source": [
        "9-Write one for loop to print out each element of the list several_things. Then, write another for loop to print out the TYPE of each element of the list several_things. To complete this problem you should have written two different for loops, each of which iterates over the list several_things, but each of those 2 for loops should have a different result."
      ],
      "metadata": {
        "id": "PeFJIPaCiB67"
      }
    },
    {
      "cell_type": "code",
      "source": [
        "several_things = [\"hello\", 2, 4, 6.0, 7.5, 234352354, \"the end\", \"\", 99]\n",
        "\n",
        "for n in several_things:\n",
        "    print(n)\n",
        "\n",
        "for n in several_things:\n",
        "    print(type(n))"
      ],
      "metadata": {
        "colab": {
          "base_uri": "https://localhost:8080/"
        },
        "id": "S99_R39niZKO",
        "outputId": "338f7e82-29fc-42cf-9359-80ab423f39ce"
      },
      "execution_count": null,
      "outputs": [
        {
          "output_type": "stream",
          "name": "stdout",
          "text": [
            "hello\n",
            "2\n",
            "4\n",
            "6.0\n",
            "7.5\n",
            "234352354\n",
            "the end\n",
            "\n",
            "99\n",
            "<class 'str'>\n",
            "<class 'int'>\n",
            "<class 'int'>\n",
            "<class 'float'>\n",
            "<class 'float'>\n",
            "<class 'int'>\n",
            "<class 'str'>\n",
            "<class 'str'>\n",
            "<class 'int'>\n"
          ]
        }
      ]
    },
    {
      "cell_type": "markdown",
      "source": [
        "10-Write code that uses iteration to print out the length of each element of the list stored in str_list.\n",
        "\n"
      ],
      "metadata": {
        "id": "cGaxkJYwicyH"
      }
    },
    {
      "cell_type": "code",
      "source": [
        "str_list = [\"hello\", \"\", \"goodbye\", \"wonderful\", \"I love Python\"]\n",
        "\n",
        "# Write your code here.\n",
        "for n in str_list:\n",
        "    print(len(n))"
      ],
      "metadata": {
        "colab": {
          "base_uri": "https://localhost:8080/"
        },
        "id": "NfB2copTizDr",
        "outputId": "0a4e6e41-9eb4-48d3-f490-819f73ae0346"
      },
      "execution_count": null,
      "outputs": [
        {
          "output_type": "stream",
          "name": "stdout",
          "text": [
            "5\n",
            "0\n",
            "7\n",
            "9\n",
            "13\n"
          ]
        }
      ]
    }
  ]
}