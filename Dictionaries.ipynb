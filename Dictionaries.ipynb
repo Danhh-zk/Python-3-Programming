{
  "nbformat": 4,
  "nbformat_minor": 0,
  "metadata": {
    "colab": {
      "provenance": [],
      "authorship_tag": "ABX9TyPuqOwGrjufhSpd2HtyZKwn",
      "include_colab_link": true
    },
    "kernelspec": {
      "name": "python3",
      "display_name": "Python 3"
    },
    "language_info": {
      "name": "python"
    }
  },
  "cells": [
    {
      "cell_type": "markdown",
      "metadata": {
        "id": "view-in-github",
        "colab_type": "text"
      },
      "source": [
        "<a href=\"https://colab.research.google.com/github/Danhh-zk/Python-3-Programming/blob/main/Dictionaries.ipynb\" target=\"_parent\"><img src=\"https://colab.research.google.com/assets/colab-badge.svg\" alt=\"Open In Colab\"/></a>"
      ]
    },
    {
      "cell_type": "markdown",
      "source": [
        "1-Create a dictionary that keeps track of the USA’s Olympic medal count. Each key of the dictionary should be the type of medal (gold, silver, or bronze) and each key’s value should be the number of that type of medal the USA’s won. Currently, the USA has 33 gold medals, 17 silver, and 12 bronze. Create a dictionary saved in the variable medals that reflects this information."
      ],
      "metadata": {
        "id": "LWHkMhvpBHkm"
      }
    },
    {
      "cell_type": "code",
      "source": [
        "medals = {\n",
        "    'gold': 33,\n",
        "    'silver': 17,\n",
        "    'bronze': 12\n",
        "}\n",
        "\n",
        "# Print or use the 'medals' dictionary as needed\n",
        "print(\"USA's Olympic Medal Count:\", medals)"
      ],
      "metadata": {
        "colab": {
          "base_uri": "https://localhost:8080/"
        },
        "id": "RfODQk7KBdeI",
        "outputId": "efd6635d-79a6-4859-ff23-4868d3e6f0e7"
      },
      "execution_count": 1,
      "outputs": [
        {
          "output_type": "stream",
          "name": "stdout",
          "text": [
            "USA's Olympic Medal Count: {'gold': 33, 'silver': 17, 'bronze': 12}\n"
          ]
        }
      ]
    },
    {
      "cell_type": "markdown",
      "source": [
        "2-Every four years, the summer Olympics are held in a different country. Add a key-value pair to the dictionary places that reflects that the 2016 Olympics were held in Brazil. Do not rewrite the entire dictionary to do this!"
      ],
      "metadata": {
        "id": "EwVTv7UeCZBc"
      }
    },
    {
      "cell_type": "code",
      "source": [
        "places = {\"Australia\":2000, \"Greece\":2004, \"China\":2008, \"England\":2012}\n",
        "places['Brazil'] = 2016\n",
        "\n",
        "# Print or use the updated 'places' dictionary as needed\n",
        "print(\"Updated 'places' dictionary:\", places)"
      ],
      "metadata": {
        "colab": {
          "base_uri": "https://localhost:8080/"
        },
        "id": "X7q9h9lCCeL6",
        "outputId": "c20ded26-346e-4085-938a-3df96e556490"
      },
      "execution_count": 2,
      "outputs": [
        {
          "output_type": "stream",
          "name": "stdout",
          "text": [
            "Updated 'places' dictionary: {'Australia': 2000, 'Greece': 2004, 'China': 2008, 'England': 2012, 'Brazil': 2016}\n"
          ]
        }
      ]
    },
    {
      "cell_type": "markdown",
      "source": [
        "3- Update the value for “Phelps” in the dictionary swimmers to include his medals from the Rio Olympics by adding 5 to the current value (Phelps will now have 28 total medals). Do not rewrite the dictionary."
      ],
      "metadata": {
        "id": "NGGgqnUMDRfu"
      }
    },
    {
      "cell_type": "code",
      "source": [
        "swimmers = {'Manuel':4, 'Lochte':12, 'Adrian':7, 'Ledecky':5, 'Dirado':4, 'Phelps':23}\n",
        "swimmers['Phelps'] = swimmers[\"Phelps\"] + 5"
      ],
      "metadata": {
        "id": "fiuvVE6xDSXL"
      },
      "execution_count": null,
      "outputs": []
    },
    {
      "cell_type": "markdown",
      "source": [
        "4-We have a dictionary of the specific events that Italy has won medals in and the number of medals they have won for each event. Assign to the variable events a list of the keys from the dictionary medal_events. Do not hard code this."
      ],
      "metadata": {
        "id": "u1qXbR8pDwqx"
      }
    },
    {
      "cell_type": "code",
      "source": [
        "\n",
        "medal_events = {'Shooting': 7, 'Fencing': 4, 'Judo': 2, 'Swimming': 3, 'Diving': 2}\n",
        "events = list(medal_events.keys())"
      ],
      "metadata": {
        "id": "hwMgUT0kDxmT"
      },
      "execution_count": 3,
      "outputs": []
    }
  ]
}