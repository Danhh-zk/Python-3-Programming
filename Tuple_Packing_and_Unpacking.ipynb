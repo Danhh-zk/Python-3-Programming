{
  "nbformat": 4,
  "nbformat_minor": 0,
  "metadata": {
    "colab": {
      "provenance": [],
      "authorship_tag": "ABX9TyOzVSI5cOEl16j26ePScqz0",
      "include_colab_link": true
    },
    "kernelspec": {
      "name": "python3",
      "display_name": "Python 3"
    },
    "language_info": {
      "name": "python"
    }
  },
  "cells": [
    {
      "cell_type": "markdown",
      "metadata": {
        "id": "view-in-github",
        "colab_type": "text"
      },
      "source": [
        "<a href=\"https://colab.research.google.com/github/Danhh-zk/Python-3-Programming/blob/main/Tuple_Packing_and_Unpacking.ipynb\" target=\"_parent\"><img src=\"https://colab.research.google.com/assets/colab-badge.svg\" alt=\"Open In Colab\"/></a>"
      ]
    },
    {
      "cell_type": "code",
      "execution_count": null,
      "metadata": {
        "id": "YHac-RpXEspG"
      },
      "outputs": [],
      "source": []
    },
    {
      "cell_type": "markdown",
      "source": [
        "1- Create a tuple called practice that has four elements: ‘y’, ‘h’, ‘z’, and ‘x’."
      ],
      "metadata": {
        "id": "HECxasZUFVPS"
      }
    },
    {
      "cell_type": "code",
      "source": [
        "practice = ( 'y', 'h', 'z','x')\n"
      ],
      "metadata": {
        "id": "jA5CDGxVFWLa"
      },
      "execution_count": null,
      "outputs": []
    },
    {
      "cell_type": "markdown",
      "source": [
        "2-Provided is a list of tuples. Create another list called t_check that contains the third element of every tuple."
      ],
      "metadata": {
        "id": "U1bQBwPTFY4F"
      }
    },
    {
      "cell_type": "code",
      "source": [
        "lst_tups = [('Articuno', 'Moltres', 'Zaptos'), ('Beedrill', 'Metapod', 'Charizard', 'Venasaur', 'Squirtle'), ('Oddish', 'Poliwag', 'Diglett', 'Bellsprout'), ('Ponyta', \"Farfetch'd\", \"Tauros\", 'Dragonite'), ('Hoothoot', 'Chikorita', 'Lanturn', 'Flaaffy', 'Unown', 'Teddiursa', 'Phanpy'), ('Loudred', 'Volbeat', 'Wailord', 'Seviper', 'Sealeo')]\n",
        "t_check = [tup[2] for tup in lst_tups]"
      ],
      "metadata": {
        "id": "oCn0QdsEF3St"
      },
      "execution_count": null,
      "outputs": []
    },
    {
      "cell_type": "markdown",
      "source": [
        "3-Below, we have provided a list of tuples. Write a for loop that saves the second element of each tuple into a list called seconds."
      ],
      "metadata": {
        "id": "coTw2OHhGNj5"
      }
    },
    {
      "cell_type": "code",
      "source": [
        "tups = [('a', 'b', 'c'), (8, 7, 6, 5), ('blue', 'green', 'yellow', 'orange', 'red'), (5.6, 9.99, 2.5, 8.2), ('squirrel', 'chipmunk')]\n",
        "\n",
        "\n",
        "# Initialize an empty list called seconds\n",
        "seconds = []\n",
        "\n",
        "# Use a for loop to save the second element of each tuple into the 'seconds' list\n",
        "for tup in tups:\n",
        "    seconds.append(tup[1])\n",
        "\n",
        "# Display the result\n",
        "print(seconds)"
      ],
      "metadata": {
        "id": "06WKIAb9GOgo"
      },
      "execution_count": null,
      "outputs": []
    },
    {
      "cell_type": "markdown",
      "source": [
        "4-With only one line of code, assign the variables water, fire, electric, and grass to the values “Squirtle”, “Charmander”, “Pikachu”, and “Bulbasaur”"
      ],
      "metadata": {
        "id": "tXrg9M5SGrV5"
      }
    },
    {
      "cell_type": "code",
      "source": [
        "water, fire, electric, grass = \"Squirtle\", \"Charmander\", \"Pikachu\", \"Bulbasaur\"\n"
      ],
      "metadata": {
        "id": "yXjlo2AzGsjP"
      },
      "execution_count": null,
      "outputs": []
    },
    {
      "cell_type": "markdown",
      "source": [
        "5-Define a function called information that takes as input, the variables name, birth_year, fav_color, and hometown. It should return a tuple of these variables in this order."
      ],
      "metadata": {
        "id": "etNszetqHQ4M"
      }
    },
    {
      "cell_type": "code",
      "source": [
        "def information(name,birth_year,fav_color,hometown):\n",
        "    return name, birth_year, fav_color, hometown"
      ],
      "metadata": {
        "id": "VN9IFFEHHRq-"
      },
      "execution_count": null,
      "outputs": []
    },
    {
      "cell_type": "markdown",
      "source": [],
      "metadata": {
        "id": "bfkfvwFCHUD0"
      }
    }
  ]
}