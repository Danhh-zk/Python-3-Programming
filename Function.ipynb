{
  "nbformat": 4,
  "nbformat_minor": 0,
  "metadata": {
    "colab": {
      "provenance": [],
      "authorship_tag": "ABX9TyNo6BffyA5xUFTiaeoNy6Rh",
      "include_colab_link": true
    },
    "kernelspec": {
      "name": "python3",
      "display_name": "Python 3"
    },
    "language_info": {
      "name": "python"
    }
  },
  "cells": [
    {
      "cell_type": "markdown",
      "metadata": {
        "id": "view-in-github",
        "colab_type": "text"
      },
      "source": [
        "<a href=\"https://colab.research.google.com/github/Danhh-zk/Python-3-Programming/blob/main/Function.ipynb\" target=\"_parent\"><img src=\"https://colab.research.google.com/assets/colab-badge.svg\" alt=\"Open In Colab\"/></a>"
      ]
    },
    {
      "cell_type": "code",
      "execution_count": null,
      "metadata": {
        "id": "SUCpMuPjgi1L"
      },
      "outputs": [],
      "source": []
    },
    {
      "cell_type": "markdown",
      "source": [
        "1- Write a function named same that takes a string as input, and simply returns that string.\n",
        "\n"
      ],
      "metadata": {
        "id": "ign1ouclglZA"
      }
    },
    {
      "cell_type": "code",
      "source": [
        "def same(x):\n",
        "    x = input()\n",
        "    return x"
      ],
      "metadata": {
        "id": "D-mZkZWwgnEg"
      },
      "execution_count": null,
      "outputs": []
    },
    {
      "cell_type": "markdown",
      "source": [
        "2- Write a function called subtract_three that takes an integer or any number as input, and returns that number minus three."
      ],
      "metadata": {
        "id": "Dpxrpo4qgykU"
      }
    },
    {
      "cell_type": "code",
      "source": [
        "def subtract_three(x):\n",
        "    return x - 3"
      ],
      "metadata": {
        "id": "4MUnK2kShMPf"
      },
      "execution_count": null,
      "outputs": []
    },
    {
      "cell_type": "markdown",
      "source": [
        "3-Write a function named intro that takes a string as input. This string ist intended to be a person’s name and the output is a standardized greeting. For example, given the string “Becky” as input, the function should return: “Hello, my name is Becky and I love SI 106.”"
      ],
      "metadata": {
        "id": "1XTW3Bo8hOoJ"
      }
    },
    {
      "cell_type": "code",
      "source": [
        "def intro(name):\n",
        "    greeting = f\"Hello, my name is {name} and I love SI 106.\"\n",
        "    return greeting\n",
        "\n",
        "result = intro(\"Becky\")\n",
        "\n",
        "# Print or use the result as needed\n",
        "print(result)"
      ],
      "metadata": {
        "id": "o5FSK3vLhpbs"
      },
      "execution_count": null,
      "outputs": []
    },
    {
      "cell_type": "markdown",
      "source": [
        "4-Write a function named total that takes a list of integers as input, and returns the total value of all those integers added together."
      ],
      "metadata": {
        "id": "xw5sa8AIhsbu"
      }
    },
    {
      "cell_type": "code",
      "source": [
        "def total(numbers):\n",
        "    # Using the built-in sum() function to calculate the total\n",
        "    result = sum(numbers)\n",
        "    return result\n",
        "\n",
        "# Example usage:\n",
        "numbers_list = [5, 10, 15, 20]\n",
        "total_value = total(numbers_list)\n",
        "\n",
        "# Print or use the total value as needed\n",
        "print(\"Total value:\", total_value)"
      ],
      "metadata": {
        "id": "8tv8HnOhicFY"
      },
      "execution_count": null,
      "outputs": []
    },
    {
      "cell_type": "code",
      "source": [],
      "metadata": {
        "id": "eI0WRIpRjPH8"
      },
      "execution_count": null,
      "outputs": []
    },
    {
      "cell_type": "markdown",
      "source": [
        "5- Write two functions, one called addit and one called mult. addit takes one number as an input and adds 5. mult takes one number as an input, and multiplies that input by whatever is returned by addit, and then returns the result."
      ],
      "metadata": {
        "id": "exBnBk3rjKXG"
      }
    },
    {
      "cell_type": "code",
      "source": [
        "def addit(number):\n",
        "    # Adds 5 to the input number\n",
        "    result = number + 5\n",
        "    return result\n",
        "\n",
        "def mult(number):\n",
        "    # Multiplies the input number by the result of addit\n",
        "    result = number * addit(number)\n",
        "    return result\n",
        "\n",
        "# Example usage:\n",
        "input_number = 3\n",
        "result_addit = addit(input_number)\n",
        "result_mult = mult(input_number)\n",
        "\n",
        "# Print or use the results as needed\n",
        "print(\"Result of addit:\", result_addit)\n",
        "print(\"Result of mult:\", result_mult)"
      ],
      "metadata": {
        "id": "Nx9ffciejKkI"
      },
      "execution_count": null,
      "outputs": []
    },
    {
      "cell_type": "markdown",
      "source": [
        "6-Write a function, length, that takes in a list as the input. If the length of the list is greater than or equal to 5, return “Longer than 5”. If the length is less than 5, return “Less than 5”."
      ],
      "metadata": {
        "id": "2pX9BodOjq-d"
      }
    },
    {
      "cell_type": "code",
      "source": [
        "def length(input_list):\n",
        "    # Check the length of the input list\n",
        "    if len(input_list) >= 5:\n",
        "        return \"Longer than 5\"\n",
        "    else:\n",
        "        return \"Less than 5\"\n",
        "\n",
        "# Example usage:\n",
        "short_list = [1, 2, 3]\n",
        "long_list = [1, 2, 3, 4, 5, 6]\n",
        "\n",
        "# Print or use the results as needed\n",
        "print(\"For short_list:\", length(short_list))\n",
        "print(\"For long_list:\", length(long_list))"
      ],
      "metadata": {
        "id": "uNOMy3HmjtLO"
      },
      "execution_count": null,
      "outputs": []
    },
    {
      "cell_type": "markdown",
      "source": [
        "7-. Write a function called str_mult that takes in a required string parameter and an optional integer parameter. The default value for the integer parameter should be 3. The function should return the string multiplied by the integer parameter."
      ],
      "metadata": {
        "id": "BbRpK0xdkpFP"
      }
    },
    {
      "cell_type": "code",
      "source": [
        "def str_mult(input_string, multiplier=3):\n",
        "    # Multiply the input string by the multiplier\n",
        "    result = input_string * multiplier\n",
        "    return result\n",
        "\n",
        "# Example usage:\n",
        "original_string = \"Hello!\"\n",
        "result_default = str_mult(original_string)  # Uses the default multiplier (3)\n",
        "result_custom = str_mult(original_string, 5)  # Uses a custom multiplier (5)\n",
        "\n",
        "# Print or use the results as needed\n",
        "print(\"Default result:\", result_default)\n",
        "print(\"Custom result:\", result_custom)"
      ],
      "metadata": {
        "id": "4CNo1kujkqjY"
      },
      "execution_count": null,
      "outputs": []
    }
  ]
}