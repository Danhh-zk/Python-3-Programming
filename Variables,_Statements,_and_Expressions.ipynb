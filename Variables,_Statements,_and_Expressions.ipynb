{
  "nbformat": 4,
  "nbformat_minor": 0,
  "metadata": {
    "colab": {
      "provenance": [],
      "authorship_tag": "ABX9TyOTest6xZTCqbhJRIK+xCt3",
      "include_colab_link": true
    },
    "kernelspec": {
      "name": "python3",
      "display_name": "Python 3"
    },
    "language_info": {
      "name": "python"
    }
  },
  "cells": [
    {
      "cell_type": "markdown",
      "metadata": {
        "id": "view-in-github",
        "colab_type": "text"
      },
      "source": [
        "<a href=\"https://colab.research.google.com/github/Danhh-zk/Python-3-Programming/blob/main/Variables%2C_Statements%2C_and_Expressions.ipynb\" target=\"_parent\"><img src=\"https://colab.research.google.com/assets/colab-badge.svg\" alt=\"Open In Colab\"/></a>"
      ]
    },
    {
      "cell_type": "markdown",
      "source": [
        "1 Challenge:\n",
        "\n",
        "Many people keep time using a 24 hour clock (11 is 11am and 23 is 11pm, 0 is midnight). If it is currently 13 and you set your alarm to go off in 50 hours, it will be 15 (3pm). Write a Python program to solve the general version of the above problem. Ask the user for the time now (in hours), and then ask for the number of hours to wait for the alarm. Your program should output what the time will be on the clock when the alarm goes off."
      ],
      "metadata": {
        "id": "-yU8zjAnWX_J"
      }
    },
    {
      "cell_type": "code",
      "execution_count": null,
      "metadata": {
        "colab": {
          "base_uri": "https://localhost:8080/"
        },
        "id": "hr2VpAAjWTum",
        "outputId": "3b43a4a7-bed0-40c8-fb99-956e278a02cf"
      },
      "outputs": [
        {
          "output_type": "stream",
          "name": "stdout",
          "text": [
            "What is the current time (in hours)? 13\n",
            "How many hours do you have to wait? 50\n",
            "15\n"
          ]
        }
      ],
      "source": [
        "current_time = int(input(\"What is the current time (in hours)? \"))\n",
        "waiting_time = int(input(\"How many hours do you have to wait? \"))\n",
        "\n",
        "hours = current_time + waiting_time\n",
        "timeofday = hours % 24\n",
        "\n",
        "print(timeofday)"
      ]
    },
    {
      "cell_type": "markdown",
      "source": [
        "Challenge 2:\n",
        "\n",
        "Take the sentence: All work and no play makes Jack a dull boy. Store each word in a separate variable, then print out the sentence on one line using print."
      ],
      "metadata": {
        "id": "78VIpRCjhBzX"
      }
    },
    {
      "cell_type": "code",
      "source": [
        "word1 = \"All\"\n",
        "word2 = \"work\"\n",
        "word3 = \"and\"\n",
        "word4 = \"no\"\n",
        "word5 = \"play\"\n",
        "word6 = \"makes\"\n",
        "word7 = \"Jack\"\n",
        "word8 = \"a\"\n",
        "word9 = \"dull\"\n",
        "word10 = \"boy.\"\n",
        "\n",
        "print(word1 + ' ' +  word2 + ' ' + word3 + ' ' +  word4 + ' ' +  word5 + ' ' +  word6 + ' ' +  word7 + ' ' +  word8 + ' ' +  word9 + ' ' +  word10)"
      ],
      "metadata": {
        "colab": {
          "base_uri": "https://localhost:8080/"
        },
        "id": "r-fEkw11hAtP",
        "outputId": "fed191ff-7cd0-48bb-f263-12bc28955d8c"
      },
      "execution_count": null,
      "outputs": [
        {
          "output_type": "stream",
          "name": "stdout",
          "text": [
            "All work and no play makes Jack a dull boy.\n"
          ]
        }
      ]
    },
    {
      "cell_type": "markdown",
      "source": [
        "Challenge 3:\n",
        "\n",
        "The formula for computing the final amount if one is earning compound interest is given on Wikipedia as\n",
        "\n",
        "![compoundInterest.png](data:image/png;base64,iVBORw0KGgoAAAANSUhEUgAAAYwAAACmCAMAAAD+p0icAAAAAXNSR0IArs4c6QAAAARnQU1BAACxjwv8YQUAAAMAUExURQAAAAQEBAwMDBYWFgAAOjoAADoAOiIiIjAwMDo6OgAAZjoAZjo6ZgBmZmYAAGYAOmY6AGYAZkBAQFBQUGJiYmZmZnR0dAA6kDo6kABSjABmtjpmtjqQkDqQtjqQ22aQkGaQ22a2/5A6AJA6OrZmALZmOpCQOpCQZra2ZtuQOtuQZtu2Zv+2ZoqKip6enpC2kLa2trbbkLb/tpDb/7b/27b//9vbkNv/tv/bkP//tszMzNv/29v/////2+bm5v///wAAAAAAAAAAAAAAAAAAAAAAAAAAAAAAAAAAAAAAAAAAAAAAAAAAAAAAAAAAAAAAAAAAAAAAAAAAAAAAAAAAAAAAAAAAAAAAAAAAAAAAAAAAAAAAAAAAAAAAAAAAAAAAAAAAAAAAAAAAAAAAAAAAAAAAAAAAAAAAAAAAAAAAAAAAAAAAAAAAAAAAAAAAAAAAAAAAAAAAAAAAAAAAAAAAAAAAAAAAAAAAAAAAAAAAAAAAAAAAAAAAAAAAAAAAAAAAAAAAAAAAAAAAAAAAAAAAAAAAAAAAAAAAAAAAAAAAAAAAAAAAAAAAAAAAAAAAAAAAAAAAAAAAAAAAAAAAAAAAAAAAAAAAAAAAAAAAAAAAAAAAAAAAAAAAAAAAAAAAAAAAAAAAAAAAAAAAAAAAAAAAAAAAAAAAAAAAAAAAAAAAAAAAAAAAAAAAAAAAAAAAAAAAAAAAAAAAAAAAAAAAAAAAAAAAAAAAAAAAAAAAAAAAAAAAAAAAAAAAAAAAAAAAAAAAAAAAAAAAAAAAAAAAAAAAAAAAAAAAAAAAAAAAAAAAAAAAAAAAAAAAAAAAAAAAAAAAAAAAAAAAAAAAAAAAAAAAAAAAAAAAAAAAAAAAAAAAAAAAAAAAAAAAAAAAAAAAAAAAAAAAAAAAAAAAAAAAAAAAAAAAAAAAAAAAAAAAAAAAAAAAAAAAAAAAAAAAAAAAAAAAAAAAAAAAAAAAAAAAAAAAAAAAAAAAAAAAAAAAAAAAAAAAAAAAAAAAAAAAAAAAAAAAAIAjQp4AAAAJcEhZcwAADsMAAA7DAcdvqGQAAAAZdEVYdFNvZnR3YXJlAFBhaW50Lk5FVCB2My41LjVJivzgAAAO6UlEQVR4Xu1dDXvbuA1W7PbstVu32q7bZrfemmYf2ZLMu14319eY//9fHUCCJKgPC/qwRanU08aWRJEgXgKkiJd0ptIRjQayaCRJgqgERkSNYFJgHB4j0mwLUSYFxmrbQgMRPTIpMGaHiDTbQpTxg3HcLHbbzUqpx/XVZtx+angwdg/N29CB+aOtmm2UHog8LJvnFNUTg4Oxa6XBtUfjeLxS6jADrY69yxh8aHuYt2ubS29PDwulNmvIZrZTx3a5RfLU0JYxF/e5D5ul2m6XO1Kc76xX4KVm6LgytUt9Rod2tcYWLTu26mpxPGTWP6E9mGMBeC63AMNy26L7kRV+mVTDWsYB3L3weDioDBRuDUOp+cg1X1LvYcFYgocRHkf1GMr6iH32tI5BwThkTTrctXNMBoLZ5ExjUDBWjYa185wZbVoOxOK1pkHBuGo0+Ml8f6H1eczEI7F49R9INiQYu0aF57oMqEXeVEai8moxG+mjOptFrtWWpNwsstlqtVr4pGvmZ44wuXT62BZ8Wr4Tqcsh+vv9gPGAo866Y5fpHvfBuZu5f8k4zHO9c11mJidJqhGl6ac+K/cudqLqGxo7ZbaJG3DQ+y9XRTDqB1qHqXUavYCxPWaCN+kFvRhkZAQH3iMvC5YhMBWH5oha/ylR+wDjsFNZrctX6sqkecxoiPrI3zJagYFz51M6+gAD+otZfTu200oL221vedmtwJgLmsCYwOoBDBxIOQ1DVGHuDw7RVnv442phO4MNn5hqBcai0Utj/LD0AAbqeFk/47fMNpvNeu2HXWs+udQKjOJD8Sv8vH3GFl4eVvN6UK/ynqwRGBk7XH2WE5sQqVdiTWM7aK+zrZ3yO9h+2+VXCcZS+7kr/fdkX7RKYIToGLfj3+Sq+oxtfmpJNbKM0iaR3FSoFnpv29W+ghd7le4deAIjAONAL3s+HFrl1QpdBrg2lrZVB75IQ1uvwsMyu9KmsZ7DJOCpzmWFs4S5GW82tbReZdlqHU6A1L+5qJngvX9M46vOHXj7yu5OTy0JwJDMiLWX7/JPDgiGJhhUH/UvdMfCmODy+uu1xCHB6Dq1tKsdT/eqqvNnNiQYzULgRV1spsYPGRKMh/o5lJOtcTmxwdSgXNtGjAJkdz5sN26aEWCqfbc5v2Ppt4QhLUMtGsQjgN25hLHxyo9mHzsaVr+K7CO3QcF4kDt9ZHfiKw1zTcuJvWWYRSbDHTMBj8FIZ9mdV25hxnFqY6mhwdgK3uxsU9HEHEYIXU+t+x4aDDUXm4ahrAHViiZNjlf19JHhTL5dycO6KbWTRyT06/Zsq6jTX458mXEZXAODobbSXtiwO7Pj0YAw+sWUMYKh2OK8k7Zt2J2rjTGMQ4POpp3LGOKpoS0D9CvvNpyCDvWziEMos2uZw4Mx8hWqXQHgz0cARp/VGXdeCYyI8EtgJDAi0kBEoiTLSGBEpIGIREmWkcCISAMRiZIsI4ERkQYiEiVZxrjAuL0Gee+zD/D39nr/8ktE0k9MFIFl3L39BjC8AUiebj4kMM7YAARgoP6/vv75Nfz94+cExrBgfH31Ue3f/frps7p/+23/8p9Z9lGpr6+yF1/U/vd/evHFfE1Hdw0ILEPdflB35t+12j+/VvcvvjzdfFTgvvbPP4Lv0l+7i5JykIBxf61uP6JZwN/9D58VuCrtusBpmTP8mlTZXQMSMPbv/o8dhu42UPUIxnNYCvxM9yD0tbsoKQcJGE+f/vPumzJ/LRhmhEtnSY39aEAChrr9Hb5k3L2Bv6R+7CjIW9HXfsT5vnMRgXH/DLuEexxFWVuAIRRc1ANd8xW7+XR004AIDFER+7+KkqVE1RroD4x/pQFV14bWHxhdJUnPD7w+IwEQaCBZRkQNIoGRwIhIAxGJkiwjgRGRBiISJVlGAiMiDUQkSrKMBEZEGohIlGQZCYyINBCRKO0sQ4dadRSj+iiQeuovCPVyx9hblKnPu3BBmGmQbP/nNk91fqYlGDrqamJO7Y9mHCyX+iuE4vkRZiPJ9GQafROoFwMcXcDAgGuXQ6I3n79LDZyhs4MBVJguNWv5bA9g3Js94zUwT5/+kWXArgJy23+R0PP3DDm66NV0zJxuQwRXpyLerjl7uvnpeXYNSYFHCn8pqKsD7ZgLBXexCCIL6bz3L3/GqC9mFWTqnsM70GqIaQdpnn3WWfHiiJHHyhmGeyQH4/379w5wo0Ygs+WbwNMNMgw/ILlNE3o+YCJNSdRcK7qNF8DHERh09nTz9tvXV0CM+wG0BfdfaHKWz8VCV7hKF8JM3XO/IHXi3a+GaYc61rRIBMgV5xh5WlpdTlejb2caYjAAC49GZQeuK3F3baluhuNGNq/B0LdR1JC3C2d4j/6jPug+KtXz5vBBbALBVQIjzNSngOJMjw85ImBwkLXki+PlDEKvaAkGXxgQuCnU9v3b/1GbNh9E/rRgYNMEv+UsQ3sx9BsODEQPTq0N+Mw0GHDT2Bl9WDCCTFkKpAlbph04JOMwLRC6HMbIMxkPxHXpAQxuktYyAjAKloFt3VsGnVVbRghGASJ7IczUwaX+BuQ76+OMZZVYBtkLYRg7GKrYZ5Q4RuOJc21a9xk/YBdBt9HT3DrLoDMGBvUZ+HHnuw5QtvUxoWWQMwwy9Sn0Oh9LuoOkCAZ8sOIYI4+8W+x9xonRJLv1dPPGjHGsDzFf3WjK3H66ybK/GDeEIzBzxrRDoyl1l2U/vrYOCZKZAZsnMxqN4w3zwTJlYOj3EhqM6dEUlhgU5xl5lN1ATG6xm5KND2pGIb0MUvLvGTLJmqUa03tGZc0uAUb+DbyZmmWpx/QGPigYuGznzMce+PYDHD27qQFqMKEiExgRgZnASGBEpIGIREmWkcCISAMRiZIsI4ERkQYiEuWilsHmTktVULhPF+qea6BPwQtjIcpXWjxOfvVNW4gKjIJSq9Ap136J0vKXJFMpspAr5tz3pMl3BobAMIQztghG39OJ7cDQu+lA8+RBPkcIIKIAfZgdLnJkAcdT0PPZjoig573NvXJ2gZnrLu7o43kGaDNaOp0BT6+n34HMQFnjh6UamcL0AV//AIFy4i+wuX/PlvCiyWxI7kTlYATBJSAc5A9LCDAkBOIiUGAjRxbwPAW9QY9jBiAY7J4LP/nrNkYX7ujDeAYaDJCOlci2/cHH6Q49g+npiv16Z0LAyF9gTIqQLWFE6yUiwPQoBiMkJFDUrQCI22iHsQjIb4dxVgr+FIgIdp8e1JHbaozibzxgFOzow3gGGgySznMarOuxfBbPTbA1oEaOjoceg48wXmyjX0y0nmkLLcFgjCdLmSJeQRjkozN2D5Vl4oBEOwhj31UP8GyLO/p4noEGA6Xz9AS27Y/WrrmDnsiEDt0V+IbcCQTDFBEyKaygjPgQFRjcMhjLwDdhq8M8WYDtWVUKRo6ywMkglvtmYSMZLOPJgu1LZCMq/Yy5ozsIQ/ziV7xl4H3DK4SnuJCsLkOBUUtIYCwDDwZxCkIGAu9IzKZuni9lraaCXWCpBFRCkWdgLcOWSNQDAkSPJShrw02wmAA/ItdnQFrOpPA8Ii/aYH1G0D2wxuauM0IAc+6GU1AgC1iegh5NlYBRxS7QrITijj6eZ2DBcCwHlx7vmLI0cYGNpuwV8lg/mtEUosNGU05IJtpwo6kAjbGeSN4z5HWL4z1DLm9kKSVv4HKRR/0GLq/m2VL2aRq90xbEQ9uzqSdl7DSQwIioMSQwEhgRaSAiUZJlJDAi0kBEoiTL+O7AOD2Jc5vZhb5l0yx5ZRXTSJ5iuTRMXgVWOBfSy8zIZSzjJBhUD4mOcjO1BT2dzENSQAMzmSYYbEa1ThcJjBIN2Ug13OJhcLpMKmPBbVpdxqPXNEUK8Uu9xszMk+rIgY8285X0mJ7S8N+20dmEC/drQ+QmJm8D4FS+2QeAy2z2FyjbICAfKqfAOYhidx1gMsBV/RNisATa14c2Lsito5e7qTAGrgPdBXdO8W8TyQuWveuAMoWWMUZtdOvW3huVFp7iK+lJ7bnftrFg+JJZITaU7ZfiU/JcAJxCF2FAnm8gkN8gQIdpglA5nGHe9FCuolg1uMQi67glQZFHIAajEAMvccFh4Du3npR+V45+j8aqNgh052NqwUp6B0bw2zYWDH8R5Qp/9CYfIjdRIzp8NA+fyssM+wuUbRBQDJVTD6I7R/8QBePZmlBKx7TAWnRLMEwrxnxCN8UXuZZUzEev9aN+7T23DB9rMslZtNr2GeiY6KZ1U75kSYjcB8Apzl0MyGu93r/9d9kGAcVQOQcDNiUIK4ouCqaLrcjhlgR9gsFdFenKORwWHYOK3dptoqxNsUZXDobfh8FGq6kRUCiRyvaBRdbB5/r6XIgcmwLFXF2cW2QZnkvhbZrsxLgpZxlUJeOQX/9itp/RhhwQArj+xJZRiIGXuSkjKgW+A8vQv1zGzFWLGPYZxtPk7AkV7aPVlshD6fw4zDYDH/ImP223GaGl+MyrERgU5yZZcjLD1dINAlifYetr+wzXOQYN5vYn/KEks4I9JAS0A6PEBPgl59IBEBv4ZpahF+Pz6LVO73Yy0o2K1ta7p8KV9Kbh6TS6jbk9j9hOIuIQefVoqiCzETLcIAAlD0PleKYFLK2o+VUeEjmM73cHI4/CFM9bUT+qHipxIyU6k7upKSr8VJ16BcNs61R3JDCqNNQjGPvnst9bTWDUNdcL3k9gXFDZdUUlMOo0dMH7CYwLKruuqARGnYYueD+BcUFl1xWVwKjT0AXvJzAuqOy6oi4AhpSNUCfq9O+3A0M21ULak7ARpq9oSQ2HBqMRrJIKjTlNOzDMIqv+2AgnQvZssnvMehbJLgejbsfncBl+CzZCacieUQdE9Rl1IjEYISHBB0Rd7TuxESpD9ow6MGo9i4TvBkZvbITqkD1bOy+q0JgTdQOD17wTG+FkyL6EoTVmlVfLLgYjJCSU7B1CYLRjIwB3pDxkz9gI0wSA10oOBn/K7thfYhnt2Ag4MCsP2afR1ACNML1wKNXOMs4Alixkf4aCI8oyEjCkIfuINHcGUSIB4ww1G2GWCYyIQEtgJDAi0kBEoiTLSGBEpIGIREmWEREYvwENFpgvDNzmAQAAAABJRU5ErkJggg==)\n",
        "\n",
        "Write a Python program that assigns the principal amount of 10000 to variable P, assign to n the value 12, and assign to r the interest rate of 8% (0.08). Then have the program prompt the user for the number of years, t, that the money will be compounded for. Calculate and print the final amount after t years."
      ],
      "metadata": {
        "id": "-efbOsQUiguY"
      }
    },
    {
      "cell_type": "code",
      "source": [
        "P = 10000\n",
        "n = 12\n",
        "r = 0.08\n",
        "\n",
        "t = int(input(\"Compound for how many years? \"))\n",
        "\n",
        "final = P * ( ((1 + (r/n)) ** (n * t)) )\n",
        "\n",
        "print(\"The final amount after\", t, \"years is\", final)"
      ],
      "metadata": {
        "colab": {
          "base_uri": "https://localhost:8080/"
        },
        "id": "YYEmTNLfif8M",
        "outputId": "8aab0cd5-a776-4ebd-88e4-ae278d2e9418"
      },
      "execution_count": null,
      "outputs": [
        {
          "output_type": "stream",
          "name": "stdout",
          "text": [
            "Compound for how many years? 5\n",
            "The final amount after 5 years is 14898.45708301605\n"
          ]
        }
      ]
    },
    {
      "cell_type": "markdown",
      "source": [
        "Challenge 4:\n",
        "\n",
        "Write a program that will compute the area of a rectangle. Prompt the user to enter the width and height of the rectangle and store the values in variables called width and height. Print a nice message with the answer.."
      ],
      "metadata": {
        "id": "_tq63pi0jQ1t"
      }
    },
    {
      "cell_type": "code",
      "source": [
        "width = int(input(\"Width? \"))\n",
        "height = int(input(\"Height? \"))\n",
        "\n",
        "area = width * height\n",
        "\n",
        "print(\"The area of the rectangle is\", area)"
      ],
      "metadata": {
        "id": "TrdxwEQHjPmo"
      },
      "execution_count": null,
      "outputs": []
    },
    {
      "cell_type": "markdown",
      "source": [
        "\n",
        "Challenge 5 :\n",
        "\n",
        "There is a function we are providing in for you in this problem called square. It takes one integer and returns the square of that integer value. Write code to assign a variable called xyz the value 5*5 (five squared). Use the square function, rather than just multiplying with *.\n",
        "\n"
      ],
      "metadata": {
        "id": "AP22tIFBkbkY"
      }
    },
    {
      "cell_type": "code",
      "source": [
        "def square(x):\n",
        "    return x * x\n",
        "\n",
        "# Assigning the variable xyz the value 5 squared using the square function\n",
        "xyz = square(5)\n",
        "\n",
        "print(\"The value of xyz (5 squared) is:\", xyz)"
      ],
      "metadata": {
        "id": "UGpEe-zjkZO0"
      },
      "execution_count": null,
      "outputs": []
    },
    {
      "cell_type": "markdown",
      "source": [
        "Challenge 6 :\n",
        "\n",
        "Write code to assign the number of characters in the string rv to a variable num_chars."
      ],
      "metadata": {
        "id": "CxT2bUbEk5-4"
      }
    },
    {
      "cell_type": "code",
      "source": [
        "rv = \"\"\"Once upon a midnight dreary, while I pondered, weak and weary,\n",
        "    Over many a quaint and curious volume of forgotten lore,\n",
        "    While I nodded, nearly napping, suddenly there came a tapping,\n",
        "    As of some one gently rapping, rapping at my chamber door.\n",
        "    'Tis some visitor, I muttered, tapping at my chamber door;\n",
        "    Only this and nothing more.\"\"\"\n",
        "\n",
        "# Write your code here!\n",
        "num_chars = len(rv)"
      ],
      "metadata": {
        "id": "fiAqvoRzk5ic"
      },
      "execution_count": null,
      "outputs": []
    }
  ]
}